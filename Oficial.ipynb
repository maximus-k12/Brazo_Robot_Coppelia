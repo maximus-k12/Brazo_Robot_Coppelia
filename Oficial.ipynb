{
 "cells": [
  {
   "cell_type": "code",
   "execution_count": 11,
   "metadata": {},
   "outputs": [],
   "source": [
    "# importamos las librerías necesarias\n",
    "import sim\n",
    "import numpy as np\n",
    "import sys\n",
    "import time\n",
    "import cv2\n",
    "import numpy as np\n",
    "import matplotlib.pyplot as plt"
   ]
  },
  {
   "cell_type": "code",
   "execution_count": 12,
   "metadata": {},
   "outputs": [],
   "source": [
    "def connect(port):\n",
    "# Establece la conexión a VREP\n",
    "# port debe coincidir con el puerto de conexión en VREP\n",
    "# retorna el número de cliente o -1 si no puede establecer conexión\n",
    "    sim.simxFinish(-1) # just in case, close all opened connections\n",
    "    clientID=sim.simxStart('127.0.0.1',port,True,True,2000,5) # Conectarse\n",
    "    if clientID == 0: print(\"conectado a\", port)\n",
    "    else: print(\"no se pudo conectar\")\n",
    "    return clientID\n"
   ]
  },
  {
   "cell_type": "code",
   "execution_count": 13,
   "metadata": {},
   "outputs": [
    {
     "name": "stdout",
     "output_type": "stream",
     "text": [
      "conectado a 19999\n"
     ]
    }
   ],
   "source": [
    "# Conectarse al servidor de VREP\n",
    "# *** ejecutar cada vez que se reinicia la simulación ***\n",
    "clientID = connect(19999)"
   ]
  },
  {
   "cell_type": "code",
   "execution_count": 14,
   "metadata": {},
   "outputs": [],
   "source": [
    "#Guardamos el handle de la cámara del robot (el 'Vision_sensor')\n",
    "error_cam, camara = sim.simxGetObjectHandle(clientID, 'Camara', sim.simx_opmode_oneshot_wait)\n",
    "  \n",
    "#Capturamos un frame para activar la cámara y esperamos 1 segundo:\n",
    "_, resolution, image = sim.simxGetVisionSensorImage(clientID, camara, 0, sim.simx_opmode_streaming)\n",
    "time.sleep(1)\n",
    "  \n",
    "while(1):\n",
    "    #Capturamos un frame de la cámara del robot. Guardamos la imagen y su resolución:\n",
    "    _, resolution, image = sim.simxGetVisionSensorImage(clientID, camara, 0, sim.simx_opmode_buffer)\n",
    "     \n",
    "    #Modificaremos esta imagen para que OpenCV pueda tratarla:\n",
    "    img = np.array(image, dtype = np.uint8) #La convertimos a un array de numpy\n",
    "    img.resize([resolution[0], resolution[1], 3]) #Cambiamos sus dimensiones\n",
    "    img = np.rot90(img,2) #La rotamos 90 grados para enderezarla\n",
    "    img = np.fliplr(img) #La invertimos\n",
    "    img = cv2.cvtColor(img, cv2.COLOR_RGB2BGR) #Cambiamos su espacio de color de RGB a BGR\n",
    "     \n",
    "    #Mostramos la imagen:\n",
    "    cv2.imshow('Image', img)\n",
    "     \n",
    "    #Se sale con ESC.\n",
    "    tecla = cv2.waitKey(5) & 0xFF\n",
    "    if tecla == 27:\n",
    "        break\n",
    "         \n",
    "#Cerramos la conexión:\n",
    "sim.simxFinish(-1)"
   ]
  },
  {
   "cell_type": "code",
   "execution_count": null,
   "metadata": {},
   "outputs": [],
   "source": []
  }
 ],
 "metadata": {
  "kernelspec": {
   "display_name": "Python 3",
   "language": "python",
   "name": "python3"
  },
  "language_info": {
   "codemirror_mode": {
    "name": "ipython",
    "version": 3
   },
   "file_extension": ".py",
   "mimetype": "text/x-python",
   "name": "python",
   "nbconvert_exporter": "python",
   "pygments_lexer": "ipython3",
   "version": "3.8.2"
  }
 },
 "nbformat": 4,
 "nbformat_minor": 2
}
